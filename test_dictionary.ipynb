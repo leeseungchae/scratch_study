{
 "cells": [
  {
   "cell_type": "code",
   "execution_count": 1,
   "metadata": {
    "collapsed": true
   },
   "outputs": [],
   "source": [
    "import pandas as pd"
   ]
  },
  {
   "cell_type": "code",
   "execution_count": 2,
   "outputs": [],
   "source": [
    "train_df = pd.read_csv('data/sample/train.csv')\n",
    "\n",
    "\n",
    "train_df['korean'].to_csv('data/sample/train_ko',index=False)\n",
    "train_df['english'].to_csv('data/sample/train_en',index=False)\n",
    "\n"
   ],
   "metadata": {
    "collapsed": false
   }
  },
  {
   "cell_type": "code",
   "execution_count": 3,
   "outputs": [],
   "source": [
    "valid_df = pd.read_csv('data/sample/valid.csv')\n",
    "\n",
    "valid_df['korean'].to_csv('data/sample/valid_ko',index=False)\n",
    "valid_df['english'].to_csv('data/sample/valid_en',index=False)\n",
    "\n"
   ],
   "metadata": {
    "collapsed": false
   }
  },
  {
   "cell_type": "code",
   "execution_count": 4,
   "outputs": [],
   "source": [
    "from nlp.datasets.data_helper import create_or_load_tokenizer\n"
   ],
   "metadata": {
    "collapsed": false
   }
  },
  {
   "cell_type": "code",
   "execution_count": 6,
   "outputs": [
    {
     "name": "stderr",
     "output_type": "stream",
     "text": [
      "sentencepiece_trainer.cc(177) LOG(INFO) Running command: --input=data/sample/train_ko -- model_prefix=unigram --vocab_size=8000--bos_id=0 --eos_id=1 --unk_id=2 --pad_id=3\n"
     ]
    },
    {
     "ename": "OSError",
     "evalue": "Not found: unknown field name \"\" in TrainerSpec.",
     "output_type": "error",
     "traceback": [
      "\u001B[0;31m---------------------------------------------------------------------------\u001B[0m",
      "\u001B[0;31mOSError\u001B[0m                                   Traceback (most recent call last)",
      "Cell \u001B[0;32mIn[6], line 1\u001B[0m\n\u001B[0;32m----> 1\u001B[0m ko_vocab \u001B[38;5;241m=\u001B[39m \u001B[43mcreate_or_load_tokenizer\u001B[49m\u001B[43m(\u001B[49m\n\u001B[1;32m      2\u001B[0m \u001B[43m    \u001B[49m\u001B[43mfile_path\u001B[49m\u001B[38;5;241;43m=\u001B[39;49m\u001B[43m \u001B[49m\u001B[38;5;124;43m'\u001B[39;49m\u001B[38;5;124;43mdata/sample/train_ko\u001B[39;49m\u001B[38;5;124;43m'\u001B[39;49m\u001B[43m,\u001B[49m\n\u001B[1;32m      3\u001B[0m \u001B[43m    \u001B[49m\u001B[43msave_path\u001B[49m\u001B[43m \u001B[49m\u001B[38;5;241;43m=\u001B[39;49m\u001B[43m \u001B[49m\u001B[38;5;124;43m'\u001B[39;49m\u001B[38;5;124;43mdictionary/sample\u001B[39;49m\u001B[38;5;124;43m'\u001B[39;49m\u001B[43m,\u001B[49m\n\u001B[1;32m      4\u001B[0m \u001B[43m    \u001B[49m\u001B[43mvocab_size\u001B[49m\u001B[38;5;241;43m=\u001B[39;49m\u001B[43m \u001B[49m\u001B[38;5;241;43m8000\u001B[39;49m\u001B[43m,\u001B[49m\n\u001B[1;32m      5\u001B[0m \u001B[43m    \u001B[49m\u001B[43mlanguage\u001B[49m\u001B[43m \u001B[49m\u001B[38;5;241;43m=\u001B[39;49m\u001B[43m \u001B[49m\u001B[38;5;124;43m'\u001B[39;49m\u001B[38;5;124;43mko\u001B[39;49m\u001B[38;5;124;43m'\u001B[39;49m\n\u001B[1;32m      6\u001B[0m \n\u001B[1;32m      7\u001B[0m \u001B[43m)\u001B[49m\n",
      "File \u001B[0;32m~/PycharmProjects/scratch_study/nlp/datasets/data_helper.py:38\u001B[0m, in \u001B[0;36mcreate_or_load_tokenizer\u001B[0;34m(file_path, save_path, language, vocab_size, tokenizer_type, bos_id, eos_id, unk_id, pad_id)\u001B[0m\n\u001B[1;32m     36\u001B[0m \u001B[38;5;28;01mif\u001B[39;00m \u001B[38;5;129;01mnot\u001B[39;00m exist_file(model_path) \u001B[38;5;129;01mand\u001B[39;00m \u001B[38;5;129;01mnot\u001B[39;00m exist_file(vocab_path):\n\u001B[1;32m     37\u001B[0m     model_train_cmd \u001B[38;5;241m=\u001B[39m \u001B[38;5;124mf\u001B[39m\u001B[38;5;124m'\u001B[39m\u001B[38;5;124m--input=\u001B[39m\u001B[38;5;132;01m{\u001B[39;00mfile_path\u001B[38;5;132;01m}\u001B[39;00m\u001B[38;5;124m -- model_prefix=\u001B[39m\u001B[38;5;132;01m{\u001B[39;00mtokenizer_type\u001B[38;5;132;01m}\u001B[39;00m\u001B[38;5;124m --vocab_size=\u001B[39m\u001B[38;5;132;01m{\u001B[39;00mvocab_size\u001B[38;5;132;01m}\u001B[39;00m\u001B[38;5;124m--bos_id=\u001B[39m\u001B[38;5;132;01m{\u001B[39;00mbos_id\u001B[38;5;132;01m}\u001B[39;00m\u001B[38;5;124m --eos_id=\u001B[39m\u001B[38;5;132;01m{\u001B[39;00meos_id\u001B[38;5;132;01m}\u001B[39;00m\u001B[38;5;124m --unk_id=\u001B[39m\u001B[38;5;132;01m{\u001B[39;00munk_id\u001B[38;5;132;01m}\u001B[39;00m\u001B[38;5;124m --pad_id=\u001B[39m\u001B[38;5;132;01m{\u001B[39;00mpad_id\u001B[38;5;132;01m}\u001B[39;00m\u001B[38;5;124m'\u001B[39m\n\u001B[0;32m---> 38\u001B[0m     \u001B[43mspm\u001B[49m\u001B[38;5;241;43m.\u001B[39;49m\u001B[43mSentencePieceTrainer\u001B[49m\u001B[38;5;241;43m.\u001B[39;49m\u001B[43mTrain\u001B[49m\u001B[43m(\u001B[49m\u001B[43mmodel_train_cmd\u001B[49m\u001B[43m)\u001B[49m\n\u001B[1;32m     39\u001B[0m     shutil\u001B[38;5;241m.\u001B[39mmove(corpus_prefix \u001B[38;5;241m+\u001B[39m \u001B[38;5;124m'\u001B[39m\u001B[38;5;124m.model\u001B[39m\u001B[38;5;124m'\u001B[39m, model_path)\n\u001B[1;32m     40\u001B[0m     shutil\u001B[38;5;241m.\u001B[39mmove(corpus_prefix \u001B[38;5;241m+\u001B[39m \u001B[38;5;124m'\u001B[39m\u001B[38;5;124m.vocab\u001B[39m\u001B[38;5;124m'\u001B[39m, vocab_path)\n",
      "File \u001B[0;32m~/.conda/envs/scratch_study/lib/python3.8/site-packages/sentencepiece/__init__.py:989\u001B[0m, in \u001B[0;36mSentencePieceTrainer.Train\u001B[0;34m(arg, logstream, **kwargs)\u001B[0m\n\u001B[1;32m    986\u001B[0m \u001B[38;5;129m@staticmethod\u001B[39m\n\u001B[1;32m    987\u001B[0m \u001B[38;5;28;01mdef\u001B[39;00m \u001B[38;5;21mTrain\u001B[39m(arg\u001B[38;5;241m=\u001B[39m\u001B[38;5;28;01mNone\u001B[39;00m, logstream\u001B[38;5;241m=\u001B[39m\u001B[38;5;28;01mNone\u001B[39;00m, \u001B[38;5;241m*\u001B[39m\u001B[38;5;241m*\u001B[39mkwargs):\n\u001B[1;32m    988\u001B[0m   \u001B[38;5;28;01mwith\u001B[39;00m _LogStream(ostream\u001B[38;5;241m=\u001B[39mlogstream):\n\u001B[0;32m--> 989\u001B[0m     \u001B[43mSentencePieceTrainer\u001B[49m\u001B[38;5;241;43m.\u001B[39;49m\u001B[43m_Train\u001B[49m\u001B[43m(\u001B[49m\u001B[43marg\u001B[49m\u001B[38;5;241;43m=\u001B[39;49m\u001B[43marg\u001B[49m\u001B[43m,\u001B[49m\u001B[43m \u001B[49m\u001B[38;5;241;43m*\u001B[39;49m\u001B[38;5;241;43m*\u001B[39;49m\u001B[43mkwargs\u001B[49m\u001B[43m)\u001B[49m\n",
      "File \u001B[0;32m~/.conda/envs/scratch_study/lib/python3.8/site-packages/sentencepiece/__init__.py:945\u001B[0m, in \u001B[0;36mSentencePieceTrainer._Train\u001B[0;34m(arg, **kwargs)\u001B[0m\n\u001B[1;32m    943\u001B[0m \u001B[38;5;124;03m\"\"\"Train Sentencepiece model. Accept both kwargs and legacy string arg.\"\"\"\u001B[39;00m\n\u001B[1;32m    944\u001B[0m \u001B[38;5;28;01mif\u001B[39;00m arg \u001B[38;5;129;01mis\u001B[39;00m \u001B[38;5;129;01mnot\u001B[39;00m \u001B[38;5;28;01mNone\u001B[39;00m \u001B[38;5;129;01mand\u001B[39;00m \u001B[38;5;28mtype\u001B[39m(arg) \u001B[38;5;129;01mis\u001B[39;00m \u001B[38;5;28mstr\u001B[39m:\n\u001B[0;32m--> 945\u001B[0m   \u001B[38;5;28;01mreturn\u001B[39;00m \u001B[43mSentencePieceTrainer\u001B[49m\u001B[38;5;241;43m.\u001B[39;49m\u001B[43m_TrainFromString\u001B[49m\u001B[43m(\u001B[49m\u001B[43marg\u001B[49m\u001B[43m)\u001B[49m\n\u001B[1;32m    947\u001B[0m \u001B[38;5;28;01mdef\u001B[39;00m \u001B[38;5;21m_encode\u001B[39m(value):\n\u001B[1;32m    948\u001B[0m   \u001B[38;5;124;03m\"\"\"Encode value to CSV..\"\"\"\u001B[39;00m\n",
      "File \u001B[0;32m~/.conda/envs/scratch_study/lib/python3.8/site-packages/sentencepiece/__init__.py:923\u001B[0m, in \u001B[0;36mSentencePieceTrainer._TrainFromString\u001B[0;34m(arg)\u001B[0m\n\u001B[1;32m    921\u001B[0m \u001B[38;5;129m@staticmethod\u001B[39m\n\u001B[1;32m    922\u001B[0m \u001B[38;5;28;01mdef\u001B[39;00m \u001B[38;5;21m_TrainFromString\u001B[39m(arg):\n\u001B[0;32m--> 923\u001B[0m     \u001B[38;5;28;01mreturn\u001B[39;00m \u001B[43m_sentencepiece\u001B[49m\u001B[38;5;241;43m.\u001B[39;49m\u001B[43mSentencePieceTrainer__TrainFromString\u001B[49m\u001B[43m(\u001B[49m\u001B[43marg\u001B[49m\u001B[43m)\u001B[49m\n",
      "\u001B[0;31mOSError\u001B[0m: Not found: unknown field name \"\" in TrainerSpec."
     ]
    }
   ],
   "source": [
    "ko_vocab = create_or_load_tokenizer(\n",
    "    file_path= 'data/sample/train_ko',\n",
    "    save_path = 'dictionary/sample',\n",
    "    vocab_size= 8000,\n",
    "    language = 'ko'\n",
    "\n",
    ")"
   ],
   "metadata": {
    "collapsed": false
   }
  },
  {
   "cell_type": "code",
   "execution_count": null,
   "outputs": [],
   "source": [],
   "metadata": {
    "collapsed": false
   }
  }
 ],
 "metadata": {
  "kernelspec": {
   "display_name": "Python 3",
   "language": "python",
   "name": "python3"
  },
  "language_info": {
   "codemirror_mode": {
    "name": "ipython",
    "version": 2
   },
   "file_extension": ".py",
   "mimetype": "text/x-python",
   "name": "python",
   "nbconvert_exporter": "python",
   "pygments_lexer": "ipython2",
   "version": "2.7.6"
  }
 },
 "nbformat": 4,
 "nbformat_minor": 0
}
